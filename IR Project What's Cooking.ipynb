{
 "cells": [
  {
   "cell_type": "code",
   "execution_count": 1,
   "metadata": {},
   "outputs": [],
   "source": [
    "import warnings\n",
    "warnings.filterwarnings('ignore')\n",
    "import numpy as np\n",
    "import re\n",
    "import pandas as pd\n",
    "from pandas import Series\n",
    "import os\n",
    "from collections import defaultdict\n",
    "\n",
    "#----------- sklearn ------------------------------\n",
    "from sklearn.naive_bayes import MultinomialNB\n",
    "from sklearn.pipeline import Pipeline\n",
    "from sklearn.base import TransformerMixin\n",
    "from sklearn.feature_extraction.text import TfidfTransformer, CountVectorizer , TfidfVectorizer\n",
    "from sklearn.model_selection import train_test_split\n",
    "from sklearn.metrics import classification_report, accuracy_score, confusion_matrix\n",
    "from sklearn.linear_model import SGDClassifier, LogisticRegression\n",
    "from sklearn.ensemble import RandomForestClassifier, GradientBoostingClassifier\n",
    "from sklearn.svm import SVC\n",
    "from sklearn.preprocessing import LabelBinarizer\n",
    "from sklearn.neighbors import KNeighborsClassifier\n",
    "from sklearn.feature_selection import SelectKBest\n",
    "#----------- keras ------------------------------\n",
    "from keras.preprocessing.text import Tokenizer\n",
    "#----------- gensim ------------------------------\n",
    "from gensim.utils import simple_preprocess\n",
    "from gensim.parsing.preprocessing import STOPWORDS\n",
    "#----------- NLTK ------------------------------\n",
    "from nltk.stem import WordNetLemmatizer, SnowballStemmer\n",
    "from nltk.stem.porter import *\n",
    "from nltk.corpus import stopwords\n",
    "\n"
   ]
  },
  {
   "cell_type": "code",
   "execution_count": 2,
   "metadata": {},
   "outputs": [],
   "source": [
    "pd.set_option('display.max_rows', 10000)\n",
    "pd.set_option('display.max_columns', 100)\n",
    "pd.set_option('display.max_colwidth', 400)"
   ]
  },
  {
   "cell_type": "code",
   "execution_count": 3,
   "metadata": {},
   "outputs": [],
   "source": [
    "path = 'D:\\Whats-Cooking/'\n",
    "os.chdir(path)"
   ]
  },
  {
   "cell_type": "code",
   "execution_count": 4,
   "metadata": {},
   "outputs": [],
   "source": [
    "train_row_df = pd.read_json('data/train.json')\n",
    "test_row_df = pd.read_json('data/test.json')"
   ]
  },
  {
   "cell_type": "code",
   "execution_count": 5,
   "metadata": {},
   "outputs": [
    {
     "data": {
      "text/plain": [
       "(39774, 3)"
      ]
     },
     "execution_count": 5,
     "metadata": {},
     "output_type": "execute_result"
    }
   ],
   "source": [
    "train_row_df.shape"
   ]
  },
  {
   "cell_type": "code",
   "execution_count": 6,
   "metadata": {},
   "outputs": [
    {
     "data": {
      "text/plain": [
       "(9944, 2)"
      ]
     },
     "execution_count": 6,
     "metadata": {},
     "output_type": "execute_result"
    }
   ],
   "source": [
    "test_row_df.shape"
   ]
  },
  {
   "cell_type": "code",
   "execution_count": 7,
   "metadata": {},
   "outputs": [
    {
     "data": {
      "text/html": [
       "<div>\n",
       "<style scoped>\n",
       "    .dataframe tbody tr th:only-of-type {\n",
       "        vertical-align: middle;\n",
       "    }\n",
       "\n",
       "    .dataframe tbody tr th {\n",
       "        vertical-align: top;\n",
       "    }\n",
       "\n",
       "    .dataframe thead th {\n",
       "        text-align: right;\n",
       "    }\n",
       "</style>\n",
       "<table border=\"1\" class=\"dataframe\">\n",
       "  <thead>\n",
       "    <tr style=\"text-align: right;\">\n",
       "      <th></th>\n",
       "      <th>id</th>\n",
       "      <th>cuisine</th>\n",
       "      <th>ingredients</th>\n",
       "    </tr>\n",
       "  </thead>\n",
       "  <tbody>\n",
       "    <tr>\n",
       "      <th>0</th>\n",
       "      <td>10259</td>\n",
       "      <td>greek</td>\n",
       "      <td>[romaine lettuce, black olives, grape tomatoes, garlic, pepper, purple onion, seasoning, garbanzo beans, feta cheese crumbles]</td>\n",
       "    </tr>\n",
       "    <tr>\n",
       "      <th>1</th>\n",
       "      <td>25693</td>\n",
       "      <td>southern_us</td>\n",
       "      <td>[plain flour, ground pepper, salt, tomatoes, ground black pepper, thyme, eggs, green tomatoes, yellow corn meal, milk, vegetable oil]</td>\n",
       "    </tr>\n",
       "    <tr>\n",
       "      <th>2</th>\n",
       "      <td>20130</td>\n",
       "      <td>filipino</td>\n",
       "      <td>[eggs, pepper, salt, mayonaise, cooking oil, green chilies, grilled chicken breasts, garlic powder, yellow onion, soy sauce, butter, chicken livers]</td>\n",
       "    </tr>\n",
       "    <tr>\n",
       "      <th>3</th>\n",
       "      <td>22213</td>\n",
       "      <td>indian</td>\n",
       "      <td>[water, vegetable oil, wheat, salt]</td>\n",
       "    </tr>\n",
       "    <tr>\n",
       "      <th>4</th>\n",
       "      <td>13162</td>\n",
       "      <td>indian</td>\n",
       "      <td>[black pepper, shallots, cornflour, cayenne pepper, onions, garlic paste, milk, butter, salt, lemon juice, water, chili powder, passata, oil, ground cumin, boneless chicken skinless thigh, garam masala, double cream, natural yogurt, bay leaf]</td>\n",
       "    </tr>\n",
       "    <tr>\n",
       "      <th>...</th>\n",
       "      <td>...</td>\n",
       "      <td>...</td>\n",
       "      <td>...</td>\n",
       "    </tr>\n",
       "    <tr>\n",
       "      <th>39769</th>\n",
       "      <td>29109</td>\n",
       "      <td>irish</td>\n",
       "      <td>[light brown sugar, granulated sugar, butter, warm water, large eggs, all-purpose flour, whole wheat flour, cooking spray, boiling water, steel-cut oats, dry yeast, salt]</td>\n",
       "    </tr>\n",
       "    <tr>\n",
       "      <th>39770</th>\n",
       "      <td>11462</td>\n",
       "      <td>italian</td>\n",
       "      <td>[KRAFT Zesty Italian Dressing, purple onion, broccoli florets, rotini, pitted black olives, Kraft Grated Parmesan Cheese, red pepper]</td>\n",
       "    </tr>\n",
       "    <tr>\n",
       "      <th>39771</th>\n",
       "      <td>2238</td>\n",
       "      <td>irish</td>\n",
       "      <td>[eggs, citrus fruit, raisins, sourdough starter, flour, hot tea, sugar, ground nutmeg, salt, ground cinnamon, milk, butter]</td>\n",
       "    </tr>\n",
       "    <tr>\n",
       "      <th>39772</th>\n",
       "      <td>41882</td>\n",
       "      <td>chinese</td>\n",
       "      <td>[boneless chicken skinless thigh, minced garlic, steamed white rice, baking powder, corn starch, dark soy sauce, kosher salt, peanuts, flour, scallions, Chinese rice vinegar, vodka, fresh ginger, egg whites, broccoli, toasted sesame seeds, sugar, store bought low sodium chicken stock, baking soda, Shaoxing wine, oil]</td>\n",
       "    </tr>\n",
       "    <tr>\n",
       "      <th>39773</th>\n",
       "      <td>2362</td>\n",
       "      <td>mexican</td>\n",
       "      <td>[green chile, jalapeno chilies, onions, ground black pepper, salt, chopped cilantro fresh, green bell pepper, garlic, white sugar, roma tomatoes, celery, dried oregano]</td>\n",
       "    </tr>\n",
       "  </tbody>\n",
       "</table>\n",
       "<p>39774 rows × 3 columns</p>\n",
       "</div>"
      ],
      "text/plain": [
       "          id      cuisine  \\\n",
       "0      10259        greek   \n",
       "1      25693  southern_us   \n",
       "2      20130     filipino   \n",
       "3      22213       indian   \n",
       "4      13162       indian   \n",
       "...      ...          ...   \n",
       "39769  29109        irish   \n",
       "39770  11462      italian   \n",
       "39771   2238        irish   \n",
       "39772  41882      chinese   \n",
       "39773   2362      mexican   \n",
       "\n",
       "                                                                                                                                                                                                                                                                                                                          ingredients  \n",
       "0                                                                                                                                                                                                      [romaine lettuce, black olives, grape tomatoes, garlic, pepper, purple onion, seasoning, garbanzo beans, feta cheese crumbles]  \n",
       "1                                                                                                                                                                                               [plain flour, ground pepper, salt, tomatoes, ground black pepper, thyme, eggs, green tomatoes, yellow corn meal, milk, vegetable oil]  \n",
       "2                                                                                                                                                                                [eggs, pepper, salt, mayonaise, cooking oil, green chilies, grilled chicken breasts, garlic powder, yellow onion, soy sauce, butter, chicken livers]  \n",
       "3                                                                                                                                                                                                                                                                                                 [water, vegetable oil, wheat, salt]  \n",
       "4                                                                                  [black pepper, shallots, cornflour, cayenne pepper, onions, garlic paste, milk, butter, salt, lemon juice, water, chili powder, passata, oil, ground cumin, boneless chicken skinless thigh, garam masala, double cream, natural yogurt, bay leaf]  \n",
       "...                                                                                                                                                                                                                                                                                                                               ...  \n",
       "39769                                                                                                                                                      [light brown sugar, granulated sugar, butter, warm water, large eggs, all-purpose flour, whole wheat flour, cooking spray, boiling water, steel-cut oats, dry yeast, salt]  \n",
       "39770                                                                                                                                                                                           [KRAFT Zesty Italian Dressing, purple onion, broccoli florets, rotini, pitted black olives, Kraft Grated Parmesan Cheese, red pepper]  \n",
       "39771                                                                                                                                                                                                     [eggs, citrus fruit, raisins, sourdough starter, flour, hot tea, sugar, ground nutmeg, salt, ground cinnamon, milk, butter]  \n",
       "39772  [boneless chicken skinless thigh, minced garlic, steamed white rice, baking powder, corn starch, dark soy sauce, kosher salt, peanuts, flour, scallions, Chinese rice vinegar, vodka, fresh ginger, egg whites, broccoli, toasted sesame seeds, sugar, store bought low sodium chicken stock, baking soda, Shaoxing wine, oil]  \n",
       "39773                                                                                                                                                        [green chile, jalapeno chilies, onions, ground black pepper, salt, chopped cilantro fresh, green bell pepper, garlic, white sugar, roma tomatoes, celery, dried oregano]  \n",
       "\n",
       "[39774 rows x 3 columns]"
      ]
     },
     "execution_count": 7,
     "metadata": {},
     "output_type": "execute_result"
    }
   ],
   "source": [
    "train_row_df"
   ]
  },
  {
   "cell_type": "code",
   "execution_count": 8,
   "metadata": {
    "scrolled": true
   },
   "outputs": [
    {
     "data": {
      "text/html": [
       "<div>\n",
       "<style scoped>\n",
       "    .dataframe tbody tr th:only-of-type {\n",
       "        vertical-align: middle;\n",
       "    }\n",
       "\n",
       "    .dataframe tbody tr th {\n",
       "        vertical-align: top;\n",
       "    }\n",
       "\n",
       "    .dataframe thead th {\n",
       "        text-align: right;\n",
       "    }\n",
       "</style>\n",
       "<table border=\"1\" class=\"dataframe\">\n",
       "  <thead>\n",
       "    <tr style=\"text-align: right;\">\n",
       "      <th></th>\n",
       "      <th>id</th>\n",
       "      <th>ingredients</th>\n",
       "    </tr>\n",
       "  </thead>\n",
       "  <tbody>\n",
       "    <tr>\n",
       "      <th>0</th>\n",
       "      <td>18009</td>\n",
       "      <td>[baking powder, eggs, all-purpose flour, raisins, milk, white sugar]</td>\n",
       "    </tr>\n",
       "    <tr>\n",
       "      <th>1</th>\n",
       "      <td>28583</td>\n",
       "      <td>[sugar, egg yolks, corn starch, cream of tartar, bananas, vanilla wafers, milk, vanilla extract, toasted pecans, egg whites, light rum]</td>\n",
       "    </tr>\n",
       "    <tr>\n",
       "      <th>2</th>\n",
       "      <td>41580</td>\n",
       "      <td>[sausage links, fennel bulb, fronds, olive oil, cuban peppers, onions]</td>\n",
       "    </tr>\n",
       "    <tr>\n",
       "      <th>3</th>\n",
       "      <td>29752</td>\n",
       "      <td>[meat cuts, file powder, smoked sausage, okra, shrimp, andouille sausage, water, paprika, hot sauce, garlic cloves, browning, lump crab meat, vegetable oil, all-purpose flour, freshly ground pepper, flat leaf parsley, boneless chicken skinless thigh, dried thyme, white rice, yellow onion, ham]</td>\n",
       "    </tr>\n",
       "    <tr>\n",
       "      <th>4</th>\n",
       "      <td>35687</td>\n",
       "      <td>[ground black pepper, salt, sausage casings, leeks, parmigiano reggiano cheese, cornmeal, water, extra-virgin olive oil]</td>\n",
       "    </tr>\n",
       "  </tbody>\n",
       "</table>\n",
       "</div>"
      ],
      "text/plain": [
       "      id  \\\n",
       "0  18009   \n",
       "1  28583   \n",
       "2  41580   \n",
       "3  29752   \n",
       "4  35687   \n",
       "\n",
       "                                                                                                                                                                                                                                                                                              ingredients  \n",
       "0                                                                                                                                                                                                                                    [baking powder, eggs, all-purpose flour, raisins, milk, white sugar]  \n",
       "1                                                                                                                                                                 [sugar, egg yolks, corn starch, cream of tartar, bananas, vanilla wafers, milk, vanilla extract, toasted pecans, egg whites, light rum]  \n",
       "2                                                                                                                                                                                                                                  [sausage links, fennel bulb, fronds, olive oil, cuban peppers, onions]  \n",
       "3  [meat cuts, file powder, smoked sausage, okra, shrimp, andouille sausage, water, paprika, hot sauce, garlic cloves, browning, lump crab meat, vegetable oil, all-purpose flour, freshly ground pepper, flat leaf parsley, boneless chicken skinless thigh, dried thyme, white rice, yellow onion, ham]  \n",
       "4                                                                                                                                                                                [ground black pepper, salt, sausage casings, leeks, parmigiano reggiano cheese, cornmeal, water, extra-virgin olive oil]  "
      ]
     },
     "execution_count": 8,
     "metadata": {},
     "output_type": "execute_result"
    }
   ],
   "source": [
    "test_row_df.head()"
   ]
  },
  {
   "cell_type": "code",
   "execution_count": 9,
   "metadata": {
    "scrolled": false
   },
   "outputs": [
    {
     "data": {
      "text/plain": [
       "<AxesSubplot:xlabel='cuisine'>"
      ]
     },
     "execution_count": 9,
     "metadata": {},
     "output_type": "execute_result"
    },
    {
     "data": {
      "image/png": "[encoded data removed]",
      "text/plain": [
       "<Figure size 432x288 with 1 Axes>"
      ]
     },
     "metadata": {
      "needs_background": "light"
     },
     "output_type": "display_data"
    }
   ],
   "source": [
    "train_row_df.groupby('cuisine')\\\n",
    "            .agg(\n",
    "                count = ('ingredients', 'count')\n",
    "            )\\\n",
    "            .sort_values(by = ['count'],ascending= False)\\\n",
    "            .assign(\n",
    "                total_cnt = lambda x : x['count'].sum()\\\n",
    "                ,pct = lambda x : (x['count'] / x['total_cnt']) * 100  \n",
    "            )\\\n",
    "            .reset_index()\\\n",
    "            .plot.bar(x='cuisine', y='pct')"
   ]
  },
  {
   "cell_type": "code",
   "execution_count": 11,
   "metadata": {},
   "outputs": [
    {
     "data": {
      "text/plain": [
       "Text(0.5, 1.0, 'Most common ingredients')"
      ]
     },
     "execution_count": 11,
     "metadata": {},
     "output_type": "execute_result"
    },
    {
     "data": {
      "image/png": "[encoded data removed]",
      "text/plain": [
       "<Figure size 432x288 with 1 Axes>"
      ]
     },
     "metadata": {
      "needs_background": "light"
     },
     "output_type": "display_data"
    }
   ],
   "source": [
    "def get_ingredients(data):\n",
    "    \"\"\"This function gets a dataframe o series of lists and returns all the\n",
    "    ingredients that appear in the object - NOT UNIQUE ingredients\"\"\"\n",
    "    all_ingredients = []\n",
    "    for i in range(len(data)):\n",
    "        if isinstance(data, pd.core.frame.DataFrame):\n",
    "            all_ingredients.extend(data.loc[i, 'ingredients'])\n",
    "        else:\n",
    "            all_ingredients.extend(data.iloc[i])\n",
    "    return Series(all_ingredients)\n",
    "\n",
    "\n",
    "\n",
    "all_ingredients = get_ingredients(train_row_df[\"ingredients\"])\n",
    "ax = all_ingredients.value_counts()[:10].sort_values(ascending=True).plot(kind='barh', fontsize=13)\n",
    "ax.set_xlabel('Occurrences', fontsize=13)\n",
    "ax.set_ylabel('Ingredients', fontsize=13)\n",
    "ax.set_title('Most common ingredients', fontsize=17)"
   ]
  },
  {
   "cell_type": "code",
   "execution_count": 10,
   "metadata": {},
   "outputs": [],
   "source": [
    "class text_preprocessing(TransformerMixin):\n",
    "    \n",
    "    def __init__(self, concat_ingredients = False):\n",
    "        self.concat_ingredients = concat_ingredients\n",
    "        \n",
    "    def transform(self, ingredients):\n",
    "        BAD_SYMBOLS_RE = re.compile('[^0-9a-z]')\n",
    "        STOPWORDS = set(stopwords.words('english'))\n",
    "\n",
    "        if(self.concat_ingredients):\n",
    "            ingredients = ingredients.apply(lambda ing_list: [ingredient.replace(' ','') for ingredient in ing_list]) # concat multi word ingredient \n",
    "\n",
    "        ingredients = ingredients.apply(lambda ing_list: ' '.join(ing_list)) # convert list of ingredients to string\n",
    "        ingredients = ingredients.str.lower() # ingredients string to lower case letters\n",
    "        ingredients = ingredients.apply(lambda ing_list: BAD_SYMBOLS_RE.sub(' ', ing_list)) # remove all non(numbers, characters) from the string\n",
    "        ingredients = ingredients.apply(lambda ing_list: ' '.join([word for word in ing_list.split() if word not in STOPWORDS])) # remove stopwords       \n",
    "        \n",
    "        return ingredients\n",
    "    \n",
    "    def fit(self, X, Y):\n",
    "        return self"
   ]
  },
  {
   "cell_type": "code",
   "execution_count": 11,
   "metadata": {},
   "outputs": [],
   "source": [
    "X , Y = train_row_df['ingredients'], train_row_df['cuisine']"
   ]
  },
  {
   "cell_type": "code",
   "execution_count": 12,
   "metadata": {},
   "outputs": [],
   "source": [
    "validation_size = 0.3\n",
    "random_state = 42"
   ]
  },
  {
   "cell_type": "code",
   "execution_count": 13,
   "metadata": {},
   "outputs": [],
   "source": [
    "x_train, x_vald , y_train , y_vald = train_test_split(X, Y, test_size = validation_size, random_state = random_state)\n",
    "\n",
    "x_test = test_row_df['ingredients']"
   ]
  },
  {
   "cell_type": "code",
   "execution_count": 14,
   "metadata": {},
   "outputs": [],
   "source": [
    "pipelines = defaultdict(None)\n",
    "\n",
    "NB_Pipeline = Pipeline([\n",
    "               ('pre', text_preprocessing()),\n",
    "               ('vect', CountVectorizer()),\n",
    "               ('tfidf', TfidfTransformer()),\n",
    "               ('clf', MultinomialNB())\n",
    "              ])\n",
    "pipelines['Multinomial Naive Bayes'] = NB_Pipeline\n",
    "\n",
    "\n",
    "SGD_Pipeline = Pipeline([\n",
    "                ('pre', text_preprocessing()),\n",
    "                ('vect', CountVectorizer()),\n",
    "                ('tfidf', TfidfTransformer()),\n",
    "                ('clf' , SGDClassifier())\n",
    "              ])\n",
    "pipelines['SGDClassifier'] = SGD_Pipeline\n",
    "\n",
    "\n",
    "LR_Pipeline = Pipeline([\n",
    "                ('pre', text_preprocessing()),\n",
    "                ('vect', CountVectorizer()),\n",
    "                ('tfidf', TfidfTransformer()),\n",
    "                ('clf', LogisticRegression())\n",
    "              ])\n",
    "pipelines['LogisticRegression'] = LR_Pipeline\n",
    "\n",
    "\n",
    "RF_Pipeline = Pipeline([\n",
    "                ('pre', text_preprocessing()),\n",
    "                ('vect', CountVectorizer()),\n",
    "                ('tfidf', TfidfTransformer()),\n",
    "                ('clf', RandomForestClassifier())\n",
    "              ])\n",
    "pipelines['RandomForestClassifier'] = RF_Pipeline\n",
    "\n",
    "\n",
    "SVC_Pipeline = Pipeline([\n",
    "                ('pre', text_preprocessing()),\n",
    "                ('vect', CountVectorizer()),\n",
    "                ('tfidf', TfidfTransformer()),\n",
    "                ('clf', SVC())\n",
    "              ])\n",
    "pipelines['SVMClassifier'] = SVC_Pipeline\n",
    "\n",
    "\n",
    "KNC_Pipeline = Pipeline([\n",
    "                ('pre', text_preprocessing()),\n",
    "                ('vect', CountVectorizer()),\n",
    "                ('tfidf', TfidfTransformer()),\n",
    "                ('clf', KNeighborsClassifier())\n",
    "              ])\n",
    "pipelines['KNeighborsClassifier'] = KNC_Pipeline"
   ]
  },
  {
   "cell_type": "code",
   "execution_count": 15,
   "metadata": {},
   "outputs": [
    {
     "name": "stdout",
     "output_type": "stream",
     "text": [
      "Training  Multinomial Naive Bayes\n",
      "Training  SGDClassifier\n",
      "Training  LogisticRegression\n",
      "Training  RandomForestClassifier\n",
      "Training  SVMClassifier\n",
      "Training  KNeighborsClassifier\n"
     ]
    }
   ],
   "source": [
    "for name, pipeline in pipelines.items():\n",
    "    print(\"Training \",name)\n",
    "    pipeline.fit(x_train,y_train)\n",
    "    "
   ]
  },
  {
   "cell_type": "code",
   "execution_count": 16,
   "metadata": {},
   "outputs": [
    {
     "name": "stdout",
     "output_type": "stream",
     "text": [
      "Multinomial Naive Bayes Test Accuracy: 0.6698231794184195\n",
      "SGDClassifier Test Accuracy: 0.7731500879912847\n",
      "LogisticRegression Test Accuracy: 0.7795189809771222\n",
      "RandomForestClassifier Test Accuracy: 0.7414732255090924\n",
      "SVMClassifier Test Accuracy: 0.795608815888712\n",
      "KNeighborsClassifier Test Accuracy: 0.7275622224084471\n",
      "--------------------------------------------------------\n",
      "Best Pipeline is SVMClassifier with Accuracy 0.795608815888712\n"
     ]
    }
   ],
   "source": [
    "best_accuracy=0.0\n",
    "best_classifier_name = 0\n",
    "\n",
    "for name,model in pipelines.items():\n",
    "    score = model.score(x_vald, y_vald)\n",
    "    if score > best_accuracy:\n",
    "        best_accuracy = score\n",
    "        best_classifier_name = name \n",
    "        \n",
    "    print(f'''{name} Test Accuracy: {score}''')\n",
    "    \n",
    "    \n",
    "    pd.DataFrame(\n",
    "             { 'id' : test_row_df['id'],\n",
    "               'cuisine': model.predict(x_test)\n",
    "             }\n",
    "            )\\\n",
    "  .to_csv(\"data/\"+name+\"_Submission.csv\", index=False)\n",
    "\n",
    "\n",
    "print('--------------------------------------------------------')\n",
    "print(f'''Best Pipeline is {best_classifier_name} with Accuracy {best_accuracy}''')"
   ]
  },
  {
   "cell_type": "code",
   "execution_count": 17,
   "metadata": {},
   "outputs": [
    {
     "data": {
      "text/plain": [
       "Pipeline(steps=[('pre',\n",
       "                 <__main__.text_preprocessing object at 0x0000026A4894F7F0>),\n",
       "                ('vect', CountVectorizer()), ('tfidf', TfidfTransformer()),\n",
       "                ('clf', SVC(C=10, decision_function_shape='ovo'))])"
      ]
     },
     "execution_count": 17,
     "metadata": {},
     "output_type": "execute_result"
    }
   ],
   "source": [
    "SVC_Pipeline = Pipeline([\n",
    "                ('pre', text_preprocessing()),\n",
    "                ('vect', CountVectorizer()),\n",
    "                ('tfidf', TfidfTransformer()),\n",
    "                ('clf', SVC(\n",
    "                            C= 10,\n",
    "                            decision_function_shape= 'ovo',\n",
    "                            gamma= 'scale',\n",
    "                            kernel= 'rbf'\n",
    "                            )) \n",
    "              ])\n",
    "\n",
    "SVC_Pipeline.fit(X , Y )"
   ]
  },
  {
   "cell_type": "code",
   "execution_count": 18,
   "metadata": {},
   "outputs": [],
   "source": [
    "pd.DataFrame(\n",
    "             { 'id' : test_row_df['id'],\n",
    "               'cuisine': SVC_Pipeline.predict(x_test)\n",
    "             }\n",
    "            )\\\n",
    "  .to_csv(\"data/Best_Model_Submission.csv\", index=False)\n",
    "\n"
   ]
  }
 ],
 "metadata": {
  "kernelspec": {
   "display_name": "Python 3",
   "language": "python",
   "name": "python3"
  },
  "language_info": {
   "codemirror_mode": {
    "name": "ipython",
    "version": 3
   },
   "file_extension": ".py",
   "mimetype": "text/x-python",
   "name": "python",
   "nbconvert_exporter": "python",
   "pygments_lexer": "ipython3",
   "version": "3.8.8"
  }
 },
 "nbformat": 4,
 "nbformat_minor": 4
}
